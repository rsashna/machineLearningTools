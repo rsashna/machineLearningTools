{
  "nbformat": 4,
  "nbformat_minor": 0,
  "metadata": {
    "colab": {
      "name": "Copy of support_vector_regression.ipynb",
      "provenance": [],
      "collapsed_sections": [],
      "toc_visible": true
    },
    "kernelspec": {
      "name": "python3",
      "display_name": "Python 3"
    }
  },
  "cells": [
    {
      "cell_type": "markdown",
      "metadata": {
        "id": "m3PAEPRDRLA3"
      },
      "source": [
        "# Support Vector Regression (SVR)"
      ]
    },
    {
      "cell_type": "markdown",
      "metadata": {
        "id": "0VCUAVIjRdzZ"
      },
      "source": [
        "## Importing the libraries"
      ]
    },
    {
      "cell_type": "code",
      "metadata": {
        "id": "56oRF-QfSDzC"
      },
      "source": [
        "import numpy as np\n",
        "import matplotlib.pyplot as plt\n",
        "import pandas as pd"
      ],
      "execution_count": 1,
      "outputs": []
    },
    {
      "cell_type": "markdown",
      "metadata": {
        "id": "fXVXoFWtSF4_"
      },
      "source": [
        "## Importing the dataset"
      ]
    },
    {
      "cell_type": "code",
      "metadata": {
        "id": "IkBbhE9RfW9s"
      },
      "source": [
        "dataset = pd.read_csv('Position_Salaries.csv')\n",
        "x = dataset.iloc[:, 1].values\n",
        "y = dataset.iloc[:, -1].values"
      ],
      "execution_count": 2,
      "outputs": []
    },
    {
      "cell_type": "code",
      "metadata": {
        "id": "n0bY00I9etb0"
      },
      "source": [
        "dataset = pd.read_csv('Position_Salaries.csv')\n",
        "xOrg = dataset.iloc[:, 1].values\n",
        "yOrg = dataset.iloc[:, -1].values"
      ],
      "execution_count": 11,
      "outputs": []
    },
    {
      "cell_type": "code",
      "metadata": {
        "id": "Lr-djS2_mGZa",
        "colab": {
          "base_uri": "https://localhost:8080/"
        },
        "outputId": "73f01d61-4d91-4d52-d0e5-e7f3421297c8"
      },
      "source": [
        "print(x)\n",
        "print(y)"
      ],
      "execution_count": 3,
      "outputs": [
        {
          "output_type": "stream",
          "text": [
            "[ 1  2  3  4  5  6  7  8  9 10]\n",
            "[  45000   50000   60000   80000  110000  150000  200000  300000  500000\n",
            " 1000000]\n"
          ],
          "name": "stdout"
        }
      ]
    },
    {
      "cell_type": "code",
      "metadata": {
        "id": "MGqlQ_zrmU9A",
        "colab": {
          "base_uri": "https://localhost:8080/"
        },
        "outputId": "bae552b3-6c9c-444e-ceef-01fee10aba88"
      },
      "source": [
        "x = x.reshape(len(x), 1)\n",
        "print(x)\n",
        "y = y.reshape(len(y), 1)\n",
        "print(y)"
      ],
      "execution_count": 4,
      "outputs": [
        {
          "output_type": "stream",
          "text": [
            "[[ 1]\n",
            " [ 2]\n",
            " [ 3]\n",
            " [ 4]\n",
            " [ 5]\n",
            " [ 6]\n",
            " [ 7]\n",
            " [ 8]\n",
            " [ 9]\n",
            " [10]]\n",
            "[[  45000]\n",
            " [  50000]\n",
            " [  60000]\n",
            " [  80000]\n",
            " [ 110000]\n",
            " [ 150000]\n",
            " [ 200000]\n",
            " [ 300000]\n",
            " [ 500000]\n",
            " [1000000]]\n"
          ],
          "name": "stdout"
        }
      ]
    },
    {
      "cell_type": "markdown",
      "metadata": {
        "id": "YS8FeLHYS-nI"
      },
      "source": [
        "## Feature Scaling"
      ]
    },
    {
      "cell_type": "code",
      "metadata": {
        "id": "wW9ah_PXmmZS",
        "colab": {
          "base_uri": "https://localhost:8080/"
        },
        "outputId": "99b65b37-58d4-45c1-9352-7a9b96d7086b"
      },
      "source": [
        "from sklearn.preprocessing import StandardScaler\n",
        "scX = StandardScaler()\n",
        "scY = StandardScaler()\n",
        "\n",
        "#fit will calc mean and sd, then trnsfm will use standardization formula\n",
        "x = scX.fit_transform(x)\n",
        "y = scY.fit_transform(y)\n",
        "\n",
        "print(x)\n",
        "print(y)"
      ],
      "execution_count": 5,
      "outputs": [
        {
          "output_type": "stream",
          "text": [
            "[[-1.5666989 ]\n",
            " [-1.21854359]\n",
            " [-0.87038828]\n",
            " [-0.52223297]\n",
            " [-0.17407766]\n",
            " [ 0.17407766]\n",
            " [ 0.52223297]\n",
            " [ 0.87038828]\n",
            " [ 1.21854359]\n",
            " [ 1.5666989 ]]\n",
            "[[-0.72004253]\n",
            " [-0.70243757]\n",
            " [-0.66722767]\n",
            " [-0.59680786]\n",
            " [-0.49117815]\n",
            " [-0.35033854]\n",
            " [-0.17428902]\n",
            " [ 0.17781001]\n",
            " [ 0.88200808]\n",
            " [ 2.64250325]]\n"
          ],
          "name": "stdout"
        }
      ]
    },
    {
      "cell_type": "markdown",
      "metadata": {
        "id": "eiU6D2QFRjxY"
      },
      "source": [
        "## Training the SVR model on the whole dataset"
      ]
    },
    {
      "cell_type": "code",
      "metadata": {
        "colab": {
          "base_uri": "https://localhost:8080/"
        },
        "id": "kYB2nXFgtTkh",
        "outputId": "e4da8964-2cbf-4c0b-c59d-859b3ff84b0f"
      },
      "source": [
        "from sklearn.svm import SVR\n",
        "# there are more kernels available with SVR, radial bias function kernel is recommended\n",
        "regressor = SVR(kernel = 'rbf')\n",
        "regressor.fit(x,y)\n",
        "# note, regressor fitted to scaled params, ie cannot use .predict directly"
      ],
      "execution_count": 6,
      "outputs": [
        {
          "output_type": "stream",
          "text": [
            "/usr/local/lib/python3.6/dist-packages/sklearn/utils/validation.py:760: DataConversionWarning: A column-vector y was passed when a 1d array was expected. Please change the shape of y to (n_samples, ), for example using ravel().\n",
            "  y = column_or_1d(y, warn=True)\n"
          ],
          "name": "stderr"
        },
        {
          "output_type": "execute_result",
          "data": {
            "text/plain": [
              "SVR(C=1.0, cache_size=200, coef0=0.0, degree=3, epsilon=0.1, gamma='scale',\n",
              "    kernel='rbf', max_iter=-1, shrinking=True, tol=0.001, verbose=False)"
            ]
          },
          "metadata": {
            "tags": []
          },
          "execution_count": 6
        }
      ]
    },
    {
      "cell_type": "markdown",
      "metadata": {
        "id": "deDnDr8UR5vq"
      },
      "source": [
        "## Predicting a new result"
      ]
    },
    {
      "cell_type": "code",
      "metadata": {
        "colab": {
          "base_uri": "https://localhost:8080/"
        },
        "id": "U2bU68HeaqZV",
        "outputId": "1a79e381-8d03-4b06-95e4-76d87da61da1"
      },
      "source": [
        "# first scale value with scX before passing in to predict\n",
        "predVal = regressor.predict(scX.transform([[6.5]]))\n",
        "# this predictedVal will be scaled according to scY\n",
        "print(predVal)\n",
        "# reverse the scaling\n",
        "predValRev = scY.inverse_transform(predVal)\n",
        "print(predValRev)"
      ],
      "execution_count": 9,
      "outputs": [
        {
          "output_type": "stream",
          "text": [
            "[-0.27861589]\n",
            "[170370.0204065]\n"
          ],
          "name": "stdout"
        }
      ]
    },
    {
      "cell_type": "markdown",
      "metadata": {
        "id": "zzedFlUISSu_"
      },
      "source": [
        "## Visualising the SVR results"
      ]
    },
    {
      "cell_type": "code",
      "metadata": {
        "colab": {
          "base_uri": "https://localhost:8080/"
        },
        "id": "J2YOMlNHeJYW",
        "outputId": "ae61e52b-40d1-44b8-c759-f7eef9e44f6d"
      },
      "source": [
        "y_preds = regressor.predict(x)\n",
        "y_predsRev = scY.inverse_transform(y_preds)\n",
        "print(y_predsRev)\n",
        "\n",
        "from sklearn.metrics import r2_score\n",
        "r2val = r2_score(yOrg, y_predsRev)\n",
        "print(r2val)"
      ],
      "execution_count": 12,
      "outputs": [
        {
          "output_type": "stream",
          "text": [
            "[ 73474.15615697  70786.94584626  88213.00902103 108254.98574956\n",
            " 122574.52250599 145503.10688572 209410.23132923 330606.89204569\n",
            " 471671.95587315 557821.75899897]\n",
            "0.7516001070620797\n"
          ],
          "name": "stdout"
        }
      ]
    },
    {
      "cell_type": "code",
      "metadata": {
        "colab": {
          "base_uri": "https://localhost:8080/",
          "height": 313
        },
        "id": "C_kf8ZMmdNtm",
        "outputId": "7c446a59-ffd4-4a5f-e700-385c8d97bfac"
      },
      "source": [
        "plt.scatter(xOrg, yOrg)\n",
        "plt.plot(xOrg, y_predsRev)\n",
        "plt.title('SVR Model Fitted')\n",
        "plt.xlabel('Role/Level')\n",
        "plt.ylabel('Salary')\n",
        "plt.text(1, 600000, 'R2=0.7516')\n",
        "plt.show\n",
        "\n"
      ],
      "execution_count": 13,
      "outputs": [
        {
          "output_type": "execute_result",
          "data": {
            "text/plain": [
              "<function matplotlib.pyplot.show>"
            ]
          },
          "metadata": {
            "tags": []
          },
          "execution_count": 13
        },
        {
          "output_type": "display_data",
          "data": {
            "image/png": "[encoded data removed]",
            "text/plain": [
              "<Figure size 432x288 with 1 Axes>"
            ]
          },
          "metadata": {
            "tags": [],
            "needs_background": "light"
          }
        }
      ]
    },
    {
      "cell_type": "markdown",
      "metadata": {
        "id": "UahPVNlJSZ-K"
      },
      "source": [
        "## Visualising the SVR results (for higher resolution and smoother curve)"
      ]
    },
    {
      "cell_type": "code",
      "metadata": {
        "colab": {
          "base_uri": "https://localhost:8080/",
          "height": 295
        },
        "id": "0iF_DMOOf9I3",
        "outputId": "bc7f026f-9fd9-40d1-e4d5-469d64b50589"
      },
      "source": [
        "X_grid = np.arange(min(scX.inverse_transform(x)), max(scX.inverse_transform(x)), 0.1)\n",
        "X_grid = X_grid.reshape((len(X_grid), 1))\n",
        "plt.scatter(scX.inverse_transform(x), scY.inverse_transform(y), color = 'red')\n",
        "plt.plot(X_grid, scY.inverse_transform(regressor.predict(scX.transform(X_grid))), color = 'blue')\n",
        "plt.title('Smoother SVR fitting')\n",
        "plt.xlabel('Position level')\n",
        "plt.ylabel('Salary')\n",
        "plt.show()"
      ],
      "execution_count": 14,
      "outputs": [
        {
          "output_type": "display_data",
          "data": {
            "image/png": "[encoded data removed]",
            "text/plain": [
              "<Figure size 432x288 with 1 Axes>"
            ]
          },
          "metadata": {
            "tags": [],
            "needs_background": "light"
          }
        }
      ]
    },
    {
      "cell_type": "code",
      "metadata": {
        "id": "IpSX_oiPgRhX"
      },
      "source": [
        ""
      ],
      "execution_count": null,
      "outputs": []
    }
  ]
}