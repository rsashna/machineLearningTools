{
  "nbformat": 4,
  "nbformat_minor": 0,
  "metadata": {
    "colab": {
      "name": "Copy of polynomial_regression.ipynb",
      "provenance": [],
      "collapsed_sections": []
    },
    "kernelspec": {
      "name": "python3",
      "display_name": "Python 3"
    }
  },
  "cells": [
    {
      "cell_type": "markdown",
      "metadata": {
        "id": "vN99YjPTDena"
      },
      "source": [
        "# Polynomial Regression"
      ]
    },
    {
      "cell_type": "markdown",
      "metadata": {
        "id": "ZIx_naXnDyHd"
      },
      "source": [
        "## Importing the libraries"
      ]
    },
    {
      "cell_type": "code",
      "metadata": {
        "id": "2ryZ3HHY78WA"
      },
      "source": [
        "import numpy as np\n",
        "import pandas as pd\n",
        "import matplotlib.pyplot as plt"
      ],
      "execution_count": 1,
      "outputs": []
    },
    {
      "cell_type": "markdown",
      "metadata": {
        "id": "6c8YExmOD5x5"
      },
      "source": [
        "## Importing the dataset"
      ]
    },
    {
      "cell_type": "code",
      "metadata": {
        "id": "lVrxXlkJ8H7Z"
      },
      "source": [
        "dataset = pd.read_csv('Position_Salaries.csv')\n",
        "x = dataset.iloc[:, 1:-1 ].values\n",
        "y = dataset.iloc[:, -1 ].values"
      ],
      "execution_count": 2,
      "outputs": []
    },
    {
      "cell_type": "markdown",
      "metadata": {
        "id": "Le8SEL-YEOLb"
      },
      "source": [
        "## Training the Linear Regression model on the whole dataset"
      ]
    },
    {
      "cell_type": "code",
      "metadata": {
        "colab": {
          "base_uri": "https://localhost:8080/"
        },
        "id": "xd_Qh1JJ8TDr",
        "outputId": "3bd0db01-69be-4f00-bbcc-0ac5162c423a"
      },
      "source": [
        "from sklearn.linear_model import LinearRegression\n",
        "regressor = LinearRegression()\n",
        "regressor.fit(x , y)"
      ],
      "execution_count": 3,
      "outputs": [
        {
          "output_type": "execute_result",
          "data": {
            "text/plain": [
              "LinearRegression(copy_X=True, fit_intercept=True, n_jobs=None, normalize=False)"
            ]
          },
          "metadata": {
            "tags": []
          },
          "execution_count": 3
        }
      ]
    },
    {
      "cell_type": "code",
      "metadata": {
        "colab": {
          "base_uri": "https://localhost:8080/"
        },
        "id": "nm-tY1RB9uBt",
        "outputId": "67be81cf-1102-442c-f41e-5d1b8af5a247"
      },
      "source": [
        "bArr = regressor.coef_\n",
        "b0 = regressor.intercept_\n",
        "print(bArr)\n",
        "print(b0)"
      ],
      "execution_count": 4,
      "outputs": [
        {
          "output_type": "stream",
          "text": [
            "[80878.78787879]\n",
            "-195333.33333333337\n"
          ],
          "name": "stdout"
        }
      ]
    },
    {
      "cell_type": "code",
      "metadata": {
        "colab": {
          "base_uri": "https://localhost:8080/"
        },
        "id": "vhJwbzqY_i-k",
        "outputId": "454b0c78-2830-46b8-f456-09269e4defca"
      },
      "source": [
        "# predicting values \n",
        "y_pred = regressor.predict(x)\n",
        "print(y_pred)"
      ],
      "execution_count": 5,
      "outputs": [
        {
          "output_type": "stream",
          "text": [
            "[-114454.54545455  -33575.75757576   47303.03030303  128181.81818182\n",
            "  209060.60606061  289939.39393939  370818.18181818  451696.96969697\n",
            "  532575.75757576  613454.54545455]\n"
          ],
          "name": "stdout"
        }
      ]
    },
    {
      "cell_type": "code",
      "metadata": {
        "colab": {
          "base_uri": "https://localhost:8080/"
        },
        "id": "oNT7vy9H-Dy4",
        "outputId": "66467144-943d-47ce-8ed7-0be6bf612208"
      },
      "source": [
        "# checking r2 value\n",
        "from sklearn.metrics import mean_squared_error, r2_score\n",
        "r2val = r2_score(y, y_pred)\n",
        "print(r2val)\n"
      ],
      "execution_count": 6,
      "outputs": [
        {
          "output_type": "stream",
          "text": [
            "0.6690412331929895\n"
          ],
          "name": "stdout"
        }
      ]
    },
    {
      "cell_type": "markdown",
      "metadata": {
        "id": "Rb5nWuSHEfBV"
      },
      "source": [
        "## Training the Polynomial Regression model on the whole dataset"
      ]
    },
    {
      "cell_type": "code",
      "metadata": {
        "colab": {
          "base_uri": "https://localhost:8080/"
        },
        "id": "7_RGtlHqEvmK",
        "outputId": "434cd221-98f5-42df-d959-1451d5433997"
      },
      "source": [
        "# first create polynomial features x^0, x^1, x^2, x^3..., and fit transform\n",
        "from sklearn.preprocessing import PolynomialFeatures\n",
        "polyReg = PolynomialFeatures(degree = 2)\n",
        "xPoly = polyReg.fit_transform(x)\n",
        "print(xPoly)"
      ],
      "execution_count": 7,
      "outputs": [
        {
          "output_type": "stream",
          "text": [
            "[[  1.   1.   1.]\n",
            " [  1.   2.   4.]\n",
            " [  1.   3.   9.]\n",
            " [  1.   4.  16.]\n",
            " [  1.   5.  25.]\n",
            " [  1.   6.  36.]\n",
            " [  1.   7.  49.]\n",
            " [  1.   8.  64.]\n",
            " [  1.   9.  81.]\n",
            " [  1.  10. 100.]]\n"
          ],
          "name": "stdout"
        }
      ]
    },
    {
      "cell_type": "code",
      "metadata": {
        "colab": {
          "base_uri": "https://localhost:8080/"
        },
        "id": "3VykuI2nIbrX",
        "outputId": "b65bb7df-631c-4c40-8d3a-4796aba748cd"
      },
      "source": [
        "# use linReg model on the polyfeatures\n",
        "newRegressor = LinearRegression()\n",
        "newRegressor.fit(xPoly, y)"
      ],
      "execution_count": 8,
      "outputs": [
        {
          "output_type": "execute_result",
          "data": {
            "text/plain": [
              "LinearRegression(copy_X=True, fit_intercept=True, n_jobs=None, normalize=False)"
            ]
          },
          "metadata": {
            "tags": []
          },
          "execution_count": 8
        }
      ]
    },
    {
      "cell_type": "code",
      "metadata": {
        "colab": {
          "base_uri": "https://localhost:8080/"
        },
        "id": "F5g8TRXpJFnm",
        "outputId": "8d8b27af-a3b3-4b1b-82f8-516f2c8b5ea0"
      },
      "source": [
        "# checking r2 value\n",
        "y_predPolyReg = newRegressor.predict(xPoly)\n",
        "print(y_predPolyReg)\n",
        "r2valPolyReg = r2_score(y, y_predPolyReg)\n",
        "print(r2valPolyReg)"
      ],
      "execution_count": 9,
      "outputs": [
        {
          "output_type": "stream",
          "text": [
            "[118727.27272727  44151.51515151   8439.39393939  11590.90909091\n",
            "  53606.06060606 134484.84848485 254227.27272727 412833.33333333\n",
            " 610303.03030303 846636.36363636]\n",
            "0.9162082221443942\n"
          ],
          "name": "stdout"
        }
      ]
    },
    {
      "cell_type": "markdown",
      "metadata": {
        "id": "0O8R0tzbEpvy"
      },
      "source": [
        "## Visualising the Linear Regression results"
      ]
    },
    {
      "cell_type": "code",
      "metadata": {
        "colab": {
          "base_uri": "https://localhost:8080/",
          "height": 312
        },
        "id": "Um0S1axJPoV_",
        "outputId": "fb8144a4-a4b0-4101-ed88-65dd08c9c202"
      },
      "source": [
        "# linear model, where dots are real, prediction is the regression line\n",
        "plt.scatter(x , y)\n",
        "plt.plot(x, y_pred)\n",
        "plt.title('Linear Model Fitted')\n",
        "plt.xlabel('Role/Level')\n",
        "plt.ylabel('Salary')\n",
        "plt.text(1, 600000, 'R2=0.6690')\n",
        "plt.show"
      ],
      "execution_count": 10,
      "outputs": [
        {
          "output_type": "execute_result",
          "data": {
            "text/plain": [
              "<function matplotlib.pyplot.show>"
            ]
          },
          "metadata": {
            "tags": []
          },
          "execution_count": 10
        },
        {
          "output_type": "display_data",
          "data": {
            "image/png": "[encoded data removed]",
            "text/plain": [
              "<Figure size 432x288 with 1 Axes>"
            ]
          },
          "metadata": {
            "tags": [],
            "needs_background": "light"
          }
        }
      ]
    },
    {
      "cell_type": "markdown",
      "metadata": {
        "id": "stOnSo74E52m"
      },
      "source": [
        "## Visualising the Polynomial Regression results"
      ]
    },
    {
      "cell_type": "code",
      "metadata": {
        "colab": {
          "base_uri": "https://localhost:8080/",
          "height": 312
        },
        "id": "6yB8alSySJDM",
        "outputId": "df6a8e18-a9f4-463c-de09-40b11c1c2389"
      },
      "source": [
        "plt.scatter(x , y)\n",
        "plt.plot(x, y_predPolyReg)\n",
        "plt.title('Polynomial Model Fitted')\n",
        "plt.xlabel('Role/Level')\n",
        "plt.ylabel('Salary')\n",
        "plt.text(1, 600000, 'R2=0.9162')\n",
        "plt.show"
      ],
      "execution_count": 11,
      "outputs": [
        {
          "output_type": "execute_result",
          "data": {
            "text/plain": [
              "<function matplotlib.pyplot.show>"
            ]
          },
          "metadata": {
            "tags": []
          },
          "execution_count": 11
        },
        {
          "output_type": "display_data",
          "data": {
            "image/png": "[encoded data removed]",
            "text/plain": [
              "<Figure size 432x288 with 1 Axes>"
            ]
          },
          "metadata": {
            "tags": [],
            "needs_background": "light"
          }
        }
      ]
    },
    {
      "cell_type": "markdown",
      "metadata": {
        "id": "yP_CoCqBQmWy"
      },
      "source": [
        "##Retraining Model with Higher Degrees (3)"
      ]
    },
    {
      "cell_type": "code",
      "metadata": {
        "colab": {
          "base_uri": "https://localhost:8080/"
        },
        "id": "8SG4k-Q7Qkhy",
        "outputId": "9b57709e-e50a-4201-f0a2-f82ad6bbdb5b"
      },
      "source": [
        "from sklearn.preprocessing import PolynomialFeatures\n",
        "polyReg3 = PolynomialFeatures(degree = 3)\n",
        "xPoly3 = polyReg3.fit_transform(x)\n",
        "print(xPoly3)\n",
        "# use linReg model on the polyfeatures\n",
        "newRegressor3 = LinearRegression()\n",
        "newRegressor3.fit(xPoly3, y)\n",
        "# checking r2 value\n",
        "y_predPolyReg3 = newRegressor3.predict(xPoly3)\n",
        "print(y_predPolyReg3)\n",
        "r2valPolyReg3 = r2_score(y, y_predPolyReg3)\n",
        "print(r2valPolyReg3)"
      ],
      "execution_count": 13,
      "outputs": [
        {
          "output_type": "stream",
          "text": [
            "[[   1.    1.    1.    1.]\n",
            " [   1.    2.    4.    8.]\n",
            " [   1.    3.    9.   27.]\n",
            " [   1.    4.   16.   64.]\n",
            " [   1.    5.   25.  125.]\n",
            " [   1.    6.   36.  216.]\n",
            " [   1.    7.   49.  343.]\n",
            " [   1.    8.   64.  512.]\n",
            " [   1.    9.   81.  729.]\n",
            " [   1.   10.  100. 1000.]]\n",
            "[ 14902.0979021   78759.9067599   94960.37296037  88223.77622377\n",
            "  83270.39627039 104820.51282051 177594.40559441 326312.35431236\n",
            " 575694.63869464 950461.53846154]\n",
            "0.9812097727913367\n"
          ],
          "name": "stdout"
        }
      ]
    },
    {
      "cell_type": "code",
      "metadata": {
        "colab": {
          "base_uri": "https://localhost:8080/",
          "height": 312
        },
        "id": "J4S7izgsRfNT",
        "outputId": "2e3b9282-bf39-4618-ab0a-97a730f5fd76"
      },
      "source": [
        "plt.scatter(x , y)\n",
        "plt.plot(x, y_predPolyReg3)\n",
        "plt.title('Polynomial Degree3 Model Fitted')\n",
        "plt.xlabel('Role/Level')\n",
        "plt.ylabel('Salary')\n",
        "plt.text(1, 600000, 'R2=0.9812')\n",
        "plt.show"
      ],
      "execution_count": 14,
      "outputs": [
        {
          "output_type": "execute_result",
          "data": {
            "text/plain": [
              "<function matplotlib.pyplot.show>"
            ]
          },
          "metadata": {
            "tags": []
          },
          "execution_count": 14
        },
        {
          "output_type": "display_data",
          "data": {
            "image/png": "[encoded data removed]",
            "text/plain": [
              "<Figure size 432x288 with 1 Axes>"
            ]
          },
          "metadata": {
            "tags": [],
            "needs_background": "light"
          }
        }
      ]
    },
    {
      "cell_type": "markdown",
      "metadata": {
        "id": "VLLWdVzsR1Gq"
      },
      "source": [
        "##Retraining Model with Higher Degrees (4)"
      ]
    },
    {
      "cell_type": "code",
      "metadata": {
        "colab": {
          "base_uri": "https://localhost:8080/"
        },
        "id": "53ITIDbLR0Oc",
        "outputId": "a5277eb2-c218-4da2-d5c7-cbdf4bf9f5fe"
      },
      "source": [
        "from sklearn.preprocessing import PolynomialFeatures\n",
        "polyReg4 = PolynomialFeatures(degree = 4)\n",
        "xPoly4 = polyReg4.fit_transform(x)\n",
        "print(xPoly4)\n",
        "# use linReg model on the polyfeatures\n",
        "newRegressor4 = LinearRegression()\n",
        "newRegressor4.fit(xPoly4, y)\n",
        "# checking r2 value\n",
        "y_predPolyReg4 = newRegressor4.predict(xPoly4)\n",
        "print(y_predPolyReg4)\n",
        "r2valPolyReg4 = r2_score(y, y_predPolyReg4)\n",
        "print(r2valPolyReg4)"
      ],
      "execution_count": 15,
      "outputs": [
        {
          "output_type": "stream",
          "text": [
            "[[1.000e+00 1.000e+00 1.000e+00 1.000e+00 1.000e+00]\n",
            " [1.000e+00 2.000e+00 4.000e+00 8.000e+00 1.600e+01]\n",
            " [1.000e+00 3.000e+00 9.000e+00 2.700e+01 8.100e+01]\n",
            " [1.000e+00 4.000e+00 1.600e+01 6.400e+01 2.560e+02]\n",
            " [1.000e+00 5.000e+00 2.500e+01 1.250e+02 6.250e+02]\n",
            " [1.000e+00 6.000e+00 3.600e+01 2.160e+02 1.296e+03]\n",
            " [1.000e+00 7.000e+00 4.900e+01 3.430e+02 2.401e+03]\n",
            " [1.000e+00 8.000e+00 6.400e+01 5.120e+02 4.096e+03]\n",
            " [1.000e+00 9.000e+00 8.100e+01 7.290e+02 6.561e+03]\n",
            " [1.000e+00 1.000e+01 1.000e+02 1.000e+03 1.000e+04]]\n",
            "[ 53356.64335675  31759.90675984  58642.1911421   94632.86713282\n",
            " 121724.94172495 143275.05827509 184003.49650352 289994.17249417\n",
            " 528694.63869462 988916.08391613]\n",
            "0.9973922891706614\n"
          ],
          "name": "stdout"
        }
      ]
    },
    {
      "cell_type": "code",
      "metadata": {
        "colab": {
          "base_uri": "https://localhost:8080/",
          "height": 312
        },
        "id": "zFgkqlCWSTgV",
        "outputId": "11294989-0c99-4ae9-fdc5-3cb678773c8a"
      },
      "source": [
        "plt.scatter(x , y)\n",
        "plt.plot(x, y_predPolyReg4)\n",
        "plt.title('Polynomial Degree4 Model Fitted')\n",
        "plt.xlabel('Role/Level')\n",
        "plt.ylabel('Salary')\n",
        "plt.text(1, 600000, 'R2=0.9974')\n",
        "plt.show"
      ],
      "execution_count": 16,
      "outputs": [
        {
          "output_type": "execute_result",
          "data": {
            "text/plain": [
              "<function matplotlib.pyplot.show>"
            ]
          },
          "metadata": {
            "tags": []
          },
          "execution_count": 16
        },
        {
          "output_type": "display_data",
          "data": {
            "image/png": "[encoded data removed]",
            "text/plain": [
              "<Figure size 432x288 with 1 Axes>"
            ]
          },
          "metadata": {
            "tags": [],
            "needs_background": "light"
          }
        }
      ]
    },
    {
      "cell_type": "markdown",
      "metadata": {
        "id": "U_qsAMKnE-PJ"
      },
      "source": [
        "## Visualising the Polynomial Regression results (for higher resolution and smoother curve)"
      ]
    },
    {
      "cell_type": "code",
      "metadata": {
        "colab": {
          "base_uri": "https://localhost:8080/",
          "height": 295
        },
        "id": "KFIvuIQWc_7U",
        "outputId": "ee7534c1-3ec2-49d4-ca85-21452df37af3"
      },
      "source": [
        "# just creates more sampling points\n",
        "X_grid = np.arange(min(x), max(x), 0.1)\n",
        "X_grid = X_grid.reshape((len(X_grid), 1))\n",
        "plt.scatter(x, y, color = 'red')\n",
        "plt.plot(X_grid, newRegressor4.predict(polyReg4.fit_transform(X_grid)), color = 'blue')\n",
        "plt.title('Polynomial Degree4 Model Fitted')\n",
        "plt.xlabel('Position level')\n",
        "plt.ylabel('Salary')\n",
        "plt.show()"
      ],
      "execution_count": 17,
      "outputs": [
        {
          "output_type": "display_data",
          "data": {
            "image/png": "[encoded data removed]",
            "text/plain": [
              "<Figure size 432x288 with 1 Axes>"
            ]
          },
          "metadata": {
            "tags": [],
            "needs_background": "light"
          }
        }
      ]
    },
    {
      "cell_type": "markdown",
      "metadata": {
        "id": "diyJFZHhFFeK"
      },
      "source": [
        "## Predicting a new result with Linear Regression"
      ]
    },
    {
      "cell_type": "code",
      "metadata": {
        "colab": {
          "base_uri": "https://localhost:8080/"
        },
        "id": "1PlgI7SWd3dh",
        "outputId": "09e7f3ee-76e9-486b-9f68-9bbc347ad864"
      },
      "source": [
        "# predicting salary from someone with 6.5 yrs exp\n",
        "predValLin = regressor.predict([[6.5]])\n",
        "print(predValLin)"
      ],
      "execution_count": 26,
      "outputs": [
        {
          "output_type": "stream",
          "text": [
            "[330378.78787879]\n"
          ],
          "name": "stdout"
        }
      ]
    },
    {
      "cell_type": "markdown",
      "metadata": {
        "id": "DW7I7ZVDFNkk"
      },
      "source": [
        "## Predicting a new result with Polynomial Regression"
      ]
    },
    {
      "cell_type": "code",
      "metadata": {
        "colab": {
          "base_uri": "https://localhost:8080/"
        },
        "id": "3c4-cQ7efK7T",
        "outputId": "3a74a185-8071-4203-e475-2cf66a508d93"
      },
      "source": [
        "# predicting salary from someone with 6.5 yrs exp newRegressor\n",
        "predValPol = newRegressor4.predict(polyReg4.fit_transform([[6.5]]))\n",
        "print(predValPol)"
      ],
      "execution_count": 32,
      "outputs": [
        {
          "output_type": "stream",
          "text": [
            "[158862.45265155]\n"
          ],
          "name": "stdout"
        }
      ]
    },
    {
      "cell_type": "markdown",
      "metadata": {
        "id": "FPpVOgmuhjsQ"
      },
      "source": [
        "##Plotting Both Linear and Polynomial Models on the Same Graph"
      ]
    },
    {
      "cell_type": "code",
      "metadata": {
        "colab": {
          "base_uri": "https://localhost:8080/",
          "height": 312
        },
        "id": "9nug5egchiXZ",
        "outputId": "f970fe40-9723-4297-d5ce-d515a40e2ccb"
      },
      "source": [
        "plt.scatter(x , y, c='black', label='Actual Data')\n",
        "plt.plot(x, y_pred, label='Deg 1')\n",
        "plt.plot(x, y_predPolyReg, label='Deg 2')\n",
        "plt.plot(x, y_predPolyReg3, label='Deg 3')\n",
        "plt.plot(x, y_predPolyReg4, label='Deg 4')\n",
        "plt.title('Polynomial Degree4 Model Fitted')\n",
        "plt.xlabel('Role/Level')\n",
        "plt.ylabel('Salary')\n",
        "plt.legend()\n",
        "plt.show"
      ],
      "execution_count": 42,
      "outputs": [
        {
          "output_type": "execute_result",
          "data": {
            "text/plain": [
              "<function matplotlib.pyplot.show>"
            ]
          },
          "metadata": {
            "tags": []
          },
          "execution_count": 42
        },
        {
          "output_type": "display_data",
          "data": {
            "image/png": "[encoded data removed]",
            "text/plain": [
              "<Figure size 432x288 with 1 Axes>"
            ]
          },
          "metadata": {
            "tags": [],
            "needs_background": "light"
          }
        }
      ]
    },
    {
      "cell_type": "code",
      "metadata": {
        "id": "TLbe3CD6lnss"
      },
      "source": [
        ""
      ],
      "execution_count": null,
      "outputs": []
    }
  ]
}