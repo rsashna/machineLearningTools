{
  "nbformat": 4,
  "nbformat_minor": 0,
  "metadata": {
    "colab": {
      "name": "Copy of polynomial_regression.ipynb",
      "provenance": [],
      "collapsed_sections": [],
      "toc_visible": true
    },
    "kernelspec": {
      "name": "python3",
      "display_name": "Python 3"
    }
  },
  "cells": [
    {
      "cell_type": "markdown",
      "metadata": {
        "id": "vN99YjPTDena"
      },
      "source": [
        "# Polynomial Regression"
      ]
    },
    {
      "cell_type": "markdown",
      "metadata": {
        "id": "ZIx_naXnDyHd"
      },
      "source": [
        "## Importing the libraries"
      ]
    },
    {
      "cell_type": "code",
      "metadata": {
        "id": "2ryZ3HHY78WA"
      },
      "source": [
        "import numpy as np\n",
        "import pandas as pd\n",
        "import matplotlib.pyplot as plt"
      ],
      "execution_count": 1,
      "outputs": []
    },
    {
      "cell_type": "markdown",
      "metadata": {
        "id": "6c8YExmOD5x5"
      },
      "source": [
        "## Importing the dataset"
      ]
    },
    {
      "cell_type": "code",
      "metadata": {
        "id": "lVrxXlkJ8H7Z"
      },
      "source": [
        "dataset = pd.read_csv('Position_Salaries.csv')\n",
        "x = dataset.iloc[:, 1:-1 ].values\n",
        "y = dataset.iloc[:, -1 ].values"
      ],
      "execution_count": 2,
      "outputs": []
    },
    {
      "cell_type": "markdown",
      "metadata": {
        "id": "Le8SEL-YEOLb"
      },
      "source": [
        "## Training the Linear Regression model on the whole dataset"
      ]
    },
    {
      "cell_type": "code",
      "metadata": {
        "colab": {
          "base_uri": "https://localhost:8080/"
        },
        "id": "xd_Qh1JJ8TDr",
        "outputId": "781d8e88-1196-498b-c009-7894221b3574"
      },
      "source": [
        "from sklearn.linear_model import LinearRegression\n",
        "regressor = LinearRegression()\n",
        "regressor.fit(x , y)"
      ],
      "execution_count": 3,
      "outputs": [
        {
          "output_type": "execute_result",
          "data": {
            "text/plain": [
              "LinearRegression(copy_X=True, fit_intercept=True, n_jobs=None, normalize=False)"
            ]
          },
          "metadata": {
            "tags": []
          },
          "execution_count": 3
        }
      ]
    },
    {
      "cell_type": "code",
      "metadata": {
        "colab": {
          "base_uri": "https://localhost:8080/"
        },
        "id": "nm-tY1RB9uBt",
        "outputId": "5f150642-d163-4481-d726-ce015386a0de"
      },
      "source": [
        "bArr = regressor.coef_\n",
        "b0 = regressor.intercept_\n",
        "print(bArr)\n",
        "print(b0)"
      ],
      "execution_count": 4,
      "outputs": [
        {
          "output_type": "stream",
          "text": [
            "[80878.78787879]\n",
            "-195333.33333333337\n"
          ],
          "name": "stdout"
        }
      ]
    },
    {
      "cell_type": "code",
      "metadata": {
        "colab": {
          "base_uri": "https://localhost:8080/"
        },
        "id": "vhJwbzqY_i-k",
        "outputId": "e2c20eb1-be06-44ca-8e8a-99083c663e91"
      },
      "source": [
        "# predicting values \n",
        "y_pred = regressor.predict(x)\n",
        "print(y_pred)"
      ],
      "execution_count": 11,
      "outputs": [
        {
          "output_type": "stream",
          "text": [
            "[-114454.54545455  -33575.75757576   47303.03030303  128181.81818182\n",
            "  209060.60606061  289939.39393939  370818.18181818  451696.96969697\n",
            "  532575.75757576  613454.54545455]\n"
          ],
          "name": "stdout"
        }
      ]
    },
    {
      "cell_type": "code",
      "metadata": {
        "colab": {
          "base_uri": "https://localhost:8080/"
        },
        "id": "oNT7vy9H-Dy4",
        "outputId": "770952eb-60a8-4cc0-c88d-7330430b6e08"
      },
      "source": [
        "# checking r2 value\n",
        "from sklearn.metrics import mean_squared_error, r2_score\n",
        "r2val = r2_score(y, y_pred)\n",
        "print(r2val)\n"
      ],
      "execution_count": 12,
      "outputs": [
        {
          "output_type": "stream",
          "text": [
            "0.6690412331929895\n"
          ],
          "name": "stdout"
        }
      ]
    },
    {
      "cell_type": "markdown",
      "metadata": {
        "id": "Rb5nWuSHEfBV"
      },
      "source": [
        "## Training the Polynomial Regression model on the whole dataset"
      ]
    },
    {
      "cell_type": "code",
      "metadata": {
        "colab": {
          "base_uri": "https://localhost:8080/"
        },
        "id": "7_RGtlHqEvmK",
        "outputId": "e30c1176-8cf5-4c1e-9eef-25b1a59c2d5a"
      },
      "source": [
        "# first create polynomial features x^0, x^1, x^2, x^3..., and fit transform\n",
        "from sklearn.preprocessing import PolynomialFeatures\n",
        "polyReg = PolynomialFeatures(degree = 2)\n",
        "xPoly = polyReg.fit_transform(x)\n",
        "print(xPoly)"
      ],
      "execution_count": 17,
      "outputs": [
        {
          "output_type": "stream",
          "text": [
            "[[  1.   1.   1.]\n",
            " [  1.   2.   4.]\n",
            " [  1.   3.   9.]\n",
            " [  1.   4.  16.]\n",
            " [  1.   5.  25.]\n",
            " [  1.   6.  36.]\n",
            " [  1.   7.  49.]\n",
            " [  1.   8.  64.]\n",
            " [  1.   9.  81.]\n",
            " [  1.  10. 100.]]\n"
          ],
          "name": "stdout"
        }
      ]
    },
    {
      "cell_type": "code",
      "metadata": {
        "colab": {
          "base_uri": "https://localhost:8080/"
        },
        "id": "3VykuI2nIbrX",
        "outputId": "176bc21a-8c6b-4607-b312-364b5c9695a3"
      },
      "source": [
        "# use linReg model on the polyfeatures\n",
        "newRegressor = LinearRegression()\n",
        "newRegressor.fit(xPoly, y)"
      ],
      "execution_count": 18,
      "outputs": [
        {
          "output_type": "execute_result",
          "data": {
            "text/plain": [
              "LinearRegression(copy_X=True, fit_intercept=True, n_jobs=None, normalize=False)"
            ]
          },
          "metadata": {
            "tags": []
          },
          "execution_count": 18
        }
      ]
    },
    {
      "cell_type": "code",
      "metadata": {
        "colab": {
          "base_uri": "https://localhost:8080/"
        },
        "id": "F5g8TRXpJFnm",
        "outputId": "b25cb90a-ecd7-4442-9ebe-96b4fa0861de"
      },
      "source": [
        "# checking r2 value\n",
        "y_predPolyReg = newRegressor.predict(xPoly)\n",
        "print(y_predPolyReg)\n",
        "r2valPolyReg = r2_score(y, y_predPolyReg)\n",
        "print(r2valPolyReg)"
      ],
      "execution_count": 32,
      "outputs": [
        {
          "output_type": "stream",
          "text": [
            "[118727.27272727  44151.51515151   8439.39393939  11590.90909091\n",
            "  53606.06060606 134484.84848485 254227.27272727 412833.33333333\n",
            " 610303.03030303 846636.36363636]\n",
            "0.9162082221443942\n"
          ],
          "name": "stdout"
        }
      ]
    },
    {
      "cell_type": "markdown",
      "metadata": {
        "id": "0O8R0tzbEpvy"
      },
      "source": [
        "## Visualising the Linear Regression results"
      ]
    },
    {
      "cell_type": "code",
      "metadata": {
        "colab": {
          "base_uri": "https://localhost:8080/",
          "height": 312
        },
        "id": "Um0S1axJPoV_",
        "outputId": "d6c4d0d1-41f7-4f35-a7d6-85f2ef0c89c9"
      },
      "source": [
        "# linear model\n",
        "plt.scatter(x , y)\n",
        "plt.plot(y_pred)\n",
        "plt.title('Linear Model Fitted')\n",
        "plt.xlabel('Role/Level')\n",
        "plt.ylabel('Salary')\n",
        "plt.text(1, 600000, 'R2=0.6690')\n",
        "plt.show"
      ],
      "execution_count": 41,
      "outputs": [
        {
          "output_type": "execute_result",
          "data": {
            "text/plain": [
              "<function matplotlib.pyplot.show>"
            ]
          },
          "metadata": {
            "tags": []
          },
          "execution_count": 41
        },
        {
          "output_type": "display_data",
          "data": {
            "image/png": "[encoded data removed]",
            "text/plain": [
              "<Figure size 432x288 with 1 Axes>"
            ]
          },
          "metadata": {
            "tags": [],
            "needs_background": "light"
          }
        }
      ]
    },
    {
      "cell_type": "markdown",
      "metadata": {
        "id": "stOnSo74E52m"
      },
      "source": [
        "## Visualising the Polynomial Regression results"
      ]
    },
    {
      "cell_type": "code",
      "metadata": {
        "colab": {
          "base_uri": "https://localhost:8080/",
          "height": 312
        },
        "id": "6yB8alSySJDM",
        "outputId": "245ae8a0-b85f-412d-8ec1-e6145d42800f"
      },
      "source": [
        "plt.scatter(x , y)\n",
        "plt.plot(y_predPolyReg)\n",
        "plt.title('Polynomial Model Fitted')\n",
        "plt.xlabel('Role/Level')\n",
        "plt.ylabel('Salary')\n",
        "plt.text(1, 600000, 'R2=0.9162')\n",
        "plt.show"
      ],
      "execution_count": 43,
      "outputs": [
        {
          "output_type": "execute_result",
          "data": {
            "text/plain": [
              "<function matplotlib.pyplot.show>"
            ]
          },
          "metadata": {
            "tags": []
          },
          "execution_count": 43
        },
        {
          "output_type": "display_data",
          "data": {
            "image/png": "[encoded data removed]",
            "text/plain": [
              "<Figure size 432x288 with 1 Axes>"
            ]
          },
          "metadata": {
            "tags": [],
            "needs_background": "light"
          }
        }
      ]
    },
    {
      "cell_type": "markdown",
      "metadata": {
        "id": "U_qsAMKnE-PJ"
      },
      "source": [
        "## Visualising the Polynomial Regression results (for higher resolution and smoother curve)"
      ]
    },
    {
      "cell_type": "markdown",
      "metadata": {
        "id": "diyJFZHhFFeK"
      },
      "source": [
        "## Predicting a new result with Linear Regression"
      ]
    },
    {
      "cell_type": "markdown",
      "metadata": {
        "id": "DW7I7ZVDFNkk"
      },
      "source": [
        "## Predicting a new result with Polynomial Regression"
      ]
    }
  ]
}