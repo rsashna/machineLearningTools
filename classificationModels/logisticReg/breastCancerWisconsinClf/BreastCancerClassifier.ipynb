{
 "cells": [
  {
   "cell_type": "markdown",
   "metadata": {},
   "source": [
    "\n",
    "# Breast Cancer Classifier\n",
    "### from 'Breast Cancer Wisconsin (Original) Data Set'\n"
   ]
  },
  {
   "cell_type": "markdown",
   "metadata": {},
   "source": [
    "## Importing the libraries"
   ]
  },
  {
   "cell_type": "code",
   "execution_count": 1,
   "metadata": {},
   "outputs": [],
   "source": [
    "import pandas as pd\n",
    "import numpy as np\n",
    "import matplotlib.pyplot as plt"
   ]
  },
  {
   "cell_type": "markdown",
   "metadata": {},
   "source": [
    "## Importing the dataset"
   ]
  },
  {
   "cell_type": "code",
   "execution_count": 7,
   "metadata": {},
   "outputs": [
    {
     "name": "stdout",
     "output_type": "stream",
     "text": [
      "[[ 5  1  1  1  2  1  3  1  1]\n",
      " [ 5  4  4  5  7 10  3  2  1]\n",
      " [ 3  1  1  1  2  2  3  1  1]\n",
      " [ 6  8  8  1  3  4  3  7  1]\n",
      " [ 4  1  1  3  2  1  3  1  1]]\n",
      "[2 2 2 2 2]\n"
     ]
    }
   ],
   "source": [
    "dataset = pd.read_csv('breast_cancer.csv')\n",
    "x = dataset.iloc[: , 1:-1].values\n",
    "y = dataset.iloc[: , -1].values\n",
    "print(x[0:5])\n",
    "print(y[0:5])\n",
    "# Clump Thickness,Uniformity of Cell Size,Uniformity of Cell Shape,Marginal Adhesion,Single Epithelial Cell Size,Bare Nuclei,Bland Chromatin,Normal Nucleoli,Mitoses,Class\n",
    "# Classification: benign=2, malignant=4\n",
    "# no missing data here"
   ]
  },
  {
   "cell_type": "markdown",
   "metadata": {},
   "source": [
    "## Splitting the dataset into the Training set and Test set"
   ]
  },
  {
   "cell_type": "code",
   "execution_count": 9,
   "metadata": {},
   "outputs": [
    {
     "name": "stdout",
     "output_type": "stream",
     "text": [
      "(546, 9)\n",
      "(137, 9)\n",
      "(546,)\n",
      "(137,)\n"
     ]
    }
   ],
   "source": [
    "from sklearn.model_selection import train_test_split\n",
    "(x_train, x_test, y_train, y_test) = train_test_split(x, y, test_size=0.20, random_state=0)\n",
    "print(x_train.shape)\n",
    "print(x_test.shape)\n",
    "print(y_train.shape)\n",
    "print(y_test.shape)"
   ]
  },
  {
   "cell_type": "markdown",
   "metadata": {},
   "source": [
    "## Training the Logistic Regression model on the Training set"
   ]
  },
  {
   "cell_type": "code",
   "execution_count": 12,
   "metadata": {},
   "outputs": [
    {
     "data": {
      "text/plain": [
       "LogisticRegression(random_state=0)"
      ]
     },
     "execution_count": 12,
     "metadata": {},
     "output_type": "execute_result"
    }
   ],
   "source": [
    "from sklearn.linear_model import LogisticRegression\n",
    "lgClf = LogisticRegression(random_state=0)\n",
    "lgClf.fit(x_train, y_train)"
   ]
  },
  {
   "cell_type": "markdown",
   "metadata": {},
   "source": [
    "## Predicting the Test set results"
   ]
  },
  {
   "cell_type": "code",
   "execution_count": 14,
   "metadata": {},
   "outputs": [
    {
     "name": "stdout",
     "output_type": "stream",
     "text": [
      "[2 2 4 4 2]\n",
      "[2 2 4 4 2]\n"
     ]
    }
   ],
   "source": [
    "y_pred = lgClf.predict(x_test)\n",
    "print(y_pred[0:5])\n",
    "print(y_test[0:5])"
   ]
  },
  {
   "cell_type": "markdown",
   "metadata": {},
   "source": [
    "## Making the Confusion Matrix"
   ]
  },
  {
   "cell_type": "code",
   "execution_count": 38,
   "metadata": {},
   "outputs": [
    {
     "name": "stdout",
     "output_type": "stream",
     "text": [
      "Confusion Matrix:\n",
      " [[84  3]\n",
      " [ 3 47]]\n",
      "Accuracy:\n",
      " 0.9562043795620438\n",
      "Precision:\n",
      " 0.94\n",
      "Recall:\n",
      " 0.94\n",
      "F1 Score:\n",
      " 0.94\n"
     ]
    }
   ],
   "source": [
    "from sklearn.metrics import confusion_matrix, accuracy_score, recall_score, precision_score, f1_score\n",
    "cMatrix = confusion_matrix(y_test, y_pred)\n",
    "accSc = accuracy_score(y_test, y_pred)\n",
    "presSc = precision_score(y_test, y_pred, pos_label=4)\n",
    "recSc = recall_score(y_test, y_pred, pos_label=4)\n",
    "f1Sc = f1_score(y_test, y_pred, pos_label=4)\n",
    "# f1 score will consider both recall and precision scores\n",
    "# [ tp | fp ]\n",
    "# [ fn | tn ]\n",
    "print(\"Confusion Matrix:\\n\" , cMatrix)\n",
    "print(\"Accuracy:\\n\" , accSc)\n",
    "print(\"Precision:\\n\" , presSc)\n",
    "print(\"Recall:\\n\" , recSc)\n",
    "print(\"F1 Score:\\n\" , f1Sc)"
   ]
  },
  {
   "cell_type": "markdown",
   "metadata": {},
   "source": [
    "## Computing the accuracy with k-Fold Cross Validation"
   ]
  },
  {
   "cell_type": "code",
   "execution_count": 39,
   "metadata": {},
   "outputs": [
    {
     "name": "stdout",
     "output_type": "stream",
     "text": [
      "Accuracies: \n",
      " [0.94545455 0.96363636 0.96363636 1.         0.94545455 1.\n",
      " 0.96296296 0.96296296 0.98148148 0.94444444]\n",
      "Mean Acc: \n",
      " 0.967003367003367\n",
      "Standard Deviation of Acc: \n",
      " 0.019697976894447813\n"
     ]
    }
   ],
   "source": [
    "from sklearn.model_selection import cross_val_score\n",
    "# 10 Fold Cross Validation is common standard\n",
    "# since this is checking the same fitting from lgClf, \n",
    "# mean and standard dev will be checked to measure accuracy\n",
    "accuracies = cross_val_score(estimator=lgClf, X=x_train, y=y_train, cv=10)\n",
    "print(\"Accuracies: \\n\", accuracies)\n",
    "print(\"Mean Acc: \\n\", accuracies.mean())\n",
    "print(\"Standard Deviation of Acc: \\n\", accuracies.std())"
   ]
  },
  {
   "cell_type": "code",
   "execution_count": null,
   "metadata": {},
   "outputs": [],
   "source": []
  }
 ],
 "metadata": {
  "kernelspec": {
   "display_name": "Python 3",
   "language": "python",
   "name": "python3"
  },
  "language_info": {
   "codemirror_mode": {
    "name": "ipython",
    "version": 3
   },
   "file_extension": ".py",
   "mimetype": "text/x-python",
   "name": "python",
   "nbconvert_exporter": "python",
   "pygments_lexer": "ipython3",
   "version": "3.8.3"
  }
 },
 "nbformat": 4,
 "nbformat_minor": 4
}
